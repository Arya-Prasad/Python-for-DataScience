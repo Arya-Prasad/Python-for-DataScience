{
 "cells": [
  {
   "cell_type": "markdown",
   "metadata": {},
   "source": [
    " Let's talk a bit about how NumPy arrays are different from Python containers.\n",
    "\n",
    "You may have heard Python variables described as labels. They are not little cubbies in computer memory, ready to receive a value. Rather, the values are independent objects with their own space in memory, and a Python variable just points there; it's a name for that object. You can have more than one variable referring to the same object. This mechanism is very flexible, and it also allows for lists and dictionaries with heterogeneous elements. However, doing that is not very efficient when you are dealing with lots of values of the same type.\n",
    "\n",
    "In that case, you may want to reserve a space in memory and just lay down all those values side by side. That's what a NumPy array is. Organizing data in this way is both faster, and more memory efficient. It's also necessary to interface Python with other languages such as C or Fortran, which count on data being laid out in memory in a simple fashion.\n",
    "\n",
    "Since, all the data items in an array need to have the same size, NumPy needs to be very precise about identifying data types.\n",
    "\n",
    "In this sense, it's more precise than Python: while Python has just one type of integer, and one type of floating-point number, NumPy has several. This is also needed to interface with C or Fortran. So, NumPy identifies several types of integers, depending on the number of bits that they take in their memorial presentation. numpy.int8, numpy.int16, numpy.int32, numpy.int64. The most common of this is numpy.int32. There are also unsigned varieties of these integers.\n",
    "\n",
    "Similarly, for floating-point numbers, where the most common type is numpy.float64, a double precision floating-point number, which is the same as a standard Python float. There are other, more specialized types, such as boolean, true or false, string and unicode string, which are the same as in Python, but for which, in NumPy, you need to specify the length in advance; NumPy Void, which lets you put together composite types made of different pieces; and NumPy Object, which is a bit of an exception, because it lets you refer to any type of Python object."
   ]
  },
  {
   "cell_type": "code",
   "execution_count": 1,
   "metadata": {
    "collapsed": true
   },
   "outputs": [],
   "source": [
    "import numpy as np    #specify abbreviation since we will be referring to numpy a lot\n",
    "import matplotlib.pyplot as pp"
   ]
  },
  {
   "cell_type": "code",
   "execution_count": 2,
   "metadata": {},
   "outputs": [
    {
     "data": {
      "text/plain": [
       "array([1, 2, 3, 4, 5])"
      ]
     },
     "execution_count": 2,
     "metadata": {},
     "output_type": "execute_result"
    }
   ],
   "source": [
    "# Creating a numpy array by converting a python list\n",
    "\n",
    "a = np.array([1,2,3,4,5])\n",
    "a"
   ]
  },
  {
   "cell_type": "code",
   "execution_count": 3,
   "metadata": {},
   "outputs": [
    {
     "data": {
      "text/plain": [
       "dtype('int64')"
      ]
     },
     "execution_count": 3,
     "metadata": {},
     "output_type": "execute_result"
    }
   ],
   "source": [
    "a.dtype"
   ]
  },
  {
   "cell_type": "code",
   "execution_count": 7,
   "metadata": {},
   "outputs": [
    {
     "data": {
      "text/plain": [
       "array([ 1.,  2.,  3.,  4.,  5.])"
      ]
     },
     "execution_count": 7,
     "metadata": {},
     "output_type": "execute_result"
    }
   ],
   "source": [
    "# We could also specify the datatype while creating the array\n",
    "\n",
    "a = np.array([1,2,3,4,5],dtype=np.float64)\n",
    "\n",
    "a"
   ]
  },
  {
   "cell_type": "code",
   "execution_count": 8,
   "metadata": {},
   "outputs": [
    {
     "data": {
      "text/plain": [
       "(1, (5,), 5)"
      ]
     },
     "execution_count": 8,
     "metadata": {},
     "output_type": "execute_result"
    }
   ],
   "source": [
    "a.ndim, a.shape, a.size"
   ]
  },
  {
   "cell_type": "code",
   "execution_count": 9,
   "metadata": {
    "collapsed": true
   },
   "outputs": [],
   "source": [
    "b = np.array([[1,2,3,4,5],[6,7,8,9,10]],dtype=np.float64)"
   ]
  },
  {
   "cell_type": "code",
   "execution_count": 10,
   "metadata": {},
   "outputs": [
    {
     "data": {
      "text/plain": [
       "dtype('float64')"
      ]
     },
     "execution_count": 10,
     "metadata": {},
     "output_type": "execute_result"
    }
   ],
   "source": [
    "b.dtype"
   ]
  },
  {
   "cell_type": "code",
   "execution_count": 11,
   "metadata": {},
   "outputs": [
    {
     "data": {
      "text/plain": [
       "(2, (2, 5), 10)"
      ]
     },
     "execution_count": 11,
     "metadata": {},
     "output_type": "execute_result"
    }
   ],
   "source": [
    "b.ndim, b.shape, b.size"
   ]
  },
  {
   "cell_type": "code",
   "execution_count": 13,
   "metadata": {},
   "outputs": [
    {
     "data": {
      "text/plain": [
       "array([[ 0.,  0.,  0.],\n",
       "       [ 0.,  0.,  0.],\n",
       "       [ 0.,  0.,  0.]])"
      ]
     },
     "execution_count": 13,
     "metadata": {},
     "output_type": "execute_result"
    }
   ],
   "source": [
    "np.zeros((3,3),'d')   #'d' for double/float64"
   ]
  },
  {
   "cell_type": "code",
   "execution_count": 18,
   "metadata": {},
   "outputs": [
    {
     "data": {
      "text/plain": [
       "array([[  2.68156159e+154,   1.29074377e-231,   2.17464419e-314],\n",
       "       [  2.17463967e-314,   2.17568230e-314,   2.18005997e-314],\n",
       "       [  2.14426941e-314,   2.18072289e-314,   2.17557680e-314]])"
      ]
     },
     "execution_count": 18,
     "metadata": {},
     "output_type": "execute_result"
    }
   ],
   "source": [
    "np.empty((3,3),'d')      #empty array with residual values in it"
   ]
  },
  {
   "cell_type": "markdown",
   "metadata": {},
   "source": [
    "We can also create regularly spaced arrays of numbers.\n",
    "We can either choose the number of elements between two extrema, such as five elements between zero and 10, included them"
   ]
  },
  {
   "cell_type": "code",
   "execution_count": 19,
   "metadata": {},
   "outputs": [
    {
     "data": {
      "text/plain": [
       "array([  0. ,   2.5,   5. ,   7.5,  10. ])"
      ]
     },
     "execution_count": 19,
     "metadata": {},
     "output_type": "execute_result"
    }
   ],
   "source": [
    "np.linspace(0,10,5)"
   ]
  },
  {
   "cell_type": "markdown",
   "metadata": {},
   "source": [
    "Or you can choose the step to use to go between these two elements, such as increase by two, go in between zero and 10."
   ]
  },
  {
   "cell_type": "code",
   "execution_count": 20,
   "metadata": {},
   "outputs": [
    {
     "data": {
      "text/plain": [
       "array([0, 2, 4, 6, 8])"
      ]
     },
     "execution_count": 20,
     "metadata": {},
     "output_type": "execute_result"
    }
   ],
   "source": [
    "np.arange(0,10,2)    "
   ]
  },
  {
   "cell_type": "code",
   "execution_count": 21,
   "metadata": {},
   "outputs": [
    {
     "data": {
      "text/plain": [
       "array([[-0.70537052, -0.10992641,  1.13430326, -0.63776584],\n",
       "       [-0.19267447, -1.54789955,  0.13257144,  0.91903218]])"
      ]
     },
     "execution_count": 21,
     "metadata": {},
     "output_type": "execute_result"
    }
   ],
   "source": [
    "np.random.standard_normal((2,4))"
   ]
  },
  {
   "cell_type": "code",
   "execution_count": 22,
   "metadata": {},
   "outputs": [
    {
     "data": {
      "text/plain": [
       "array([[-0.19211684,  0.29715   ,  1.31980201],\n",
       "       [-0.39607981,  1.42158343,  0.68257957],\n",
       "       [-1.13590631, -0.09705556, -1.16254638],\n",
       "       [ 0.66415181,  1.16575999, -0.90586073]])"
      ]
     },
     "execution_count": 22,
     "metadata": {},
     "output_type": "execute_result"
    }
   ],
   "source": [
    "# To stack two arrays on top of each other \n",
    "# use numpy.vstack\n",
    "\n",
    "a = np.random.standard_normal((2,3))\n",
    "b = np.random.standard_normal((2,3))\n",
    "\n",
    "np.vstack([a,b])"
   ]
  },
  {
   "cell_type": "code",
   "execution_count": 23,
   "metadata": {},
   "outputs": [
    {
     "data": {
      "text/plain": [
       "array([[-0.19211684,  0.29715   ,  1.31980201, -1.13590631, -0.09705556,\n",
       "        -1.16254638],\n",
       "       [-0.39607981,  1.42158343,  0.68257957,  0.66415181,  1.16575999,\n",
       "        -0.90586073]])"
      ]
     },
     "execution_count": 23,
     "metadata": {},
     "output_type": "execute_result"
    }
   ],
   "source": [
    "np.hstack([a,b])"
   ]
  },
  {
   "cell_type": "code",
   "execution_count": 24,
   "metadata": {},
   "outputs": [
    {
     "data": {
      "text/plain": [
       "array([[-0.19211684, -0.39607981],\n",
       "       [ 0.29715   ,  1.42158343],\n",
       "       [ 1.31980201,  0.68257957]])"
      ]
     },
     "execution_count": 24,
     "metadata": {},
     "output_type": "execute_result"
    }
   ],
   "source": [
    "# Transpose of an array\n",
    "\n",
    "a.transpose()"
   ]
  },
  {
   "cell_type": "code",
   "execution_count": 25,
   "metadata": {
    "collapsed": true
   },
   "outputs": [],
   "source": [
    "#To save and load numpy arrays to and from disk\n",
    "\n",
    "np.save('example.npy',a)   #give a name for file 'example.npy' and array to be saved(a)\n"
   ]
  },
  {
   "cell_type": "code",
   "execution_count": 26,
   "metadata": {
    "collapsed": true
   },
   "outputs": [],
   "source": [
    "al = np.load('example.npy')"
   ]
  },
  {
   "cell_type": "code",
   "execution_count": 27,
   "metadata": {},
   "outputs": [
    {
     "data": {
      "text/plain": [
       "array([[-0.19211684,  0.29715   ,  1.31980201],\n",
       "       [-0.39607981,  1.42158343,  0.68257957]])"
      ]
     },
     "execution_count": 27,
     "metadata": {},
     "output_type": "execute_result"
    }
   ],
   "source": [
    "al"
   ]
  },
  {
   "cell_type": "code",
   "execution_count": null,
   "metadata": {
    "collapsed": true
   },
   "outputs": [],
   "source": []
  }
 ],
 "metadata": {
  "kernelspec": {
   "display_name": "Python 3",
   "language": "python",
   "name": "python3"
  },
  "language_info": {
   "codemirror_mode": {
    "name": "ipython",
    "version": 3
   },
   "file_extension": ".py",
   "mimetype": "text/x-python",
   "name": "python",
   "nbconvert_exporter": "python",
   "pygments_lexer": "ipython3",
   "version": "3.6.3"
  }
 },
 "nbformat": 4,
 "nbformat_minor": 1
}
